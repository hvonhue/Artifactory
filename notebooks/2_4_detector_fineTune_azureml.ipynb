{
 "cells": [
  {
   "cell_type": "code",
   "execution_count": 1,
   "metadata": {},
   "outputs": [],
   "source": [
    "%reload_ext autoreload\n",
    "%autoreload 2   \n",
    "\n",
    "import sys\n",
    "sys.path.append('../src_jobs/')"
   ]
  },
  {
   "cell_type": "code",
   "execution_count": 2,
   "metadata": {},
   "outputs": [
    {
     "name": "stderr",
     "output_type": "stream",
     "text": [
      "/opt/miniconda/lib/python3.10/site-packages/tqdm/auto.py:21: TqdmWarning: IProgress not found. Please update jupyter and ipywidgets. See https://ipywidgets.readthedocs.io/en/stable/user_install.html\n",
      "  from .autonotebook import tqdm as notebook_tqdm\n"
     ]
    }
   ],
   "source": [
    "import torch\n",
    "import warnings\n",
    "\n",
    "# stop warnings\n",
    "torch.set_float32_matmul_precision(\"high\")\n",
    "warnings.filterwarnings(\"ignore\", \".*does not have many workers.*\")"
   ]
  },
  {
   "cell_type": "code",
   "execution_count": 3,
   "metadata": {},
   "outputs": [
    {
     "name": "stderr",
     "output_type": "stream",
     "text": [
      "Found the config file in: config.json\n"
     ]
    }
   ],
   "source": [
    "from azure.ai.ml import MLClient\n",
    "from azure.identity import DefaultAzureCredential\n",
    "\n",
    "#autheticate\n",
    "credential = DefaultAzureCredential()\n",
    "\n",
    "# Get a handle to the workspace\n",
    "ml_client = MLClient.from_config(\n",
    "    credential=credential,\n",
    "    path=\"config.json\",\n",
    ")"
   ]
  },
  {
   "cell_type": "code",
   "execution_count": 4,
   "metadata": {},
   "outputs": [],
   "source": [
    "# specify aml compute name.\n",
    "cpu_compute_target = \"cpu-cluster\"\n",
    "gpu_compute_target = \"gpu-cluster\"\n",
    "\n",
    "try:\n",
    "    ml_client.compute.get(cpu_compute_target)\n",
    "except Exception:\n",
    "    print(\"CPU compute target not found.\")\n",
    "    \n",
    "try:\n",
    "    ml_client.compute.get(gpu_compute_target)\n",
    "except Exception:\n",
    "    print(\"GPU compute target not found.\")"
   ]
  },
  {
   "cell_type": "code",
   "execution_count": 5,
   "metadata": {},
   "outputs": [
    {
     "data": {
      "text/plain": [
       "Environment({'intellectual_property': None, 'is_anonymous': False, 'auto_increment_version': False, 'auto_delete_setting': None, 'name': 'Pytorch112_python310_cuda10_cudnn8_ubuntu18', 'description': 'Environment created from a Docker image plus Conda environment, based on RGB towers files, using a base image including cuda.', 'tags': {}, 'properties': {'azureml.labels': 'latest'}, 'print_as_yaml': True, 'id': '/subscriptions/8de3e85d-b97f-48c1-a25b-5bddf9dc484c/resourceGroups/m3-mlops-dev/providers/Microsoft.MachineLearningServices/workspaces/m3-mlops-mlw-dev/environments/Pytorch112_python310_cuda10_cudnn8_ubuntu18/versions/4', 'Resource__source_path': None, 'base_path': '/workspaces/AICoE_Ramping_Artefacts/artifactory-master/notebooks', 'creation_context': <azure.ai.ml.entities._system_data.SystemData object at 0x7f7362c3b2b0>, 'serialize': <msrest.serialization.Serializer object at 0x7f72880a5e40>, 'version': '4', 'latest_version': None, 'conda_file': {'channels': ['defaults'], 'dependencies': ['numpy=1.26.0', 'pandas=2.1.1', 'pip=23.2.1', 'python=3.10', 'tqdm=4.65.0', {'pip': ['azureml-mlflow==1.53.0', 'jupyterlab==4.0.7', 'mlflow==2.7.1', 'pre-commit==3.5.0', 'typer==0.9.0', 'pycocotools==2.0.7', 'torch==1.12.1', 'torchvision==0.13.1', 'torchaudio==0.12.1', 'pytorch-lightning==2.0', 'tsdb==0.2.1', 'rich==13.3.5']}], 'name': 'env'}, 'image': 'mcr.microsoft.com/azureml/openmpi3.1.2-cuda10.2-cudnn8-ubuntu18.04', 'build': None, 'inference_config': None, 'os_type': 'Linux', 'arm_type': 'environment_version', 'conda_file_path': None, 'path': None, 'datastore': None, 'upload_hash': None, 'translated_conda_file': '{\\n  \"channels\": [\\n    \"defaults\"\\n  ],\\n  \"dependencies\": [\\n    \"numpy=1.26.0\",\\n    \"pandas=2.1.1\",\\n    \"pip=23.2.1\",\\n    \"python=3.10\",\\n    \"tqdm=4.65.0\",\\n    {\\n      \"pip\": [\\n        \"azureml-mlflow==1.53.0\",\\n        \"jupyterlab==4.0.7\",\\n        \"mlflow==2.7.1\",\\n        \"pre-commit==3.5.0\",\\n        \"typer==0.9.0\",\\n        \"pycocotools==2.0.7\",\\n        \"torch==1.12.1\",\\n        \"torchvision==0.13.1\",\\n        \"torchaudio==0.12.1\",\\n        \"pytorch-lightning==2.0\",\\n        \"tsdb==0.2.1\",\\n        \"rich==13.3.5\"\\n      ]\\n    }\\n  ],\\n  \"name\": \"env\"\\n}'})"
      ]
     },
     "execution_count": 5,
     "metadata": {},
     "output_type": "execute_result"
    }
   ],
   "source": [
    "from azure.ai.ml.entities import Environment\n",
    "\n",
    "myenv = Environment(\n",
    "    image=\"mcr.microsoft.com/azureml/openmpi3.1.2-cuda10.2-cudnn8-ubuntu18.04\",\n",
    "    conda_file=\"/workspaces/AICoE_Ramping_Artefacts/conda.yml\",\n",
    "    name=\"Pytorch112_python310_cuda10_cudnn8_ubuntu18\",\n",
    "    description=\"Environment created from a Docker image plus Conda environment, based on RGB towers files, using a base image including cuda.\",\n",
    ")\n",
    "ml_client.environments.create_or_update(myenv)\n",
    "\n",
    "# curated_env_name = \"acpt-pytorch-2.0-cuda11.7@latest\"\n"
   ]
  },
  {
   "cell_type": "code",
   "execution_count": 6,
   "metadata": {},
   "outputs": [
    {
     "name": "stdout",
     "output_type": "stream",
     "text": [
      "4\n",
      "3\n",
      "2\n",
      "1\n"
     ]
    }
   ],
   "source": [
    "envs = ml_client.environments.list(name=\"Pytorch112_python310_cuda10_cudnn8_ubuntu18\")\n",
    "for env in envs:\n",
    "    print(env.version)"
   ]
  },
  {
   "cell_type": "code",
   "execution_count": 6,
   "metadata": {},
   "outputs": [
    {
     "data": {
      "text/plain": [
       "Data({'skip_validation': False, 'mltable_schema_url': None, 'referenced_uris': None, 'type': 'uri_file', 'is_anonymous': False, 'auto_increment_version': False, 'auto_delete_setting': None, 'name': 'artifactory_validation_london', 'description': 'just using london smart meters dataset for validation (normed with std & mean)', 'tags': {}, 'properties': {}, 'print_as_yaml': True, 'id': '/subscriptions/8de3e85d-b97f-48c1-a25b-5bddf9dc484c/resourceGroups/m3-mlops-dev/providers/Microsoft.MachineLearningServices/workspaces/m3-mlops-mlw-dev/data/artifactory_validation_london/versions/2', 'Resource__source_path': None, 'base_path': '/workspaces/AICoE_Ramping_Artefacts/artifactory-master/notebooks', 'creation_context': <azure.ai.ml.entities._system_data.SystemData object at 0x7f5783e60550>, 'serialize': <msrest.serialization.Serializer object at 0x7f5783e60b20>, 'version': '2', 'latest_version': None, 'path': 'azureml://subscriptions/8de3e85d-b97f-48c1-a25b-5bddf9dc484c/resourcegroups/m3-mlops-dev/workspaces/m3-mlops-mlw-dev/datastores/workspaceblobstore/paths/LocalUpload/0236dd7fe996aa0fba2136f14e4f9056/validation512.london.pkl', 'datastore': None})"
      ]
     },
     "execution_count": 6,
     "metadata": {},
     "output_type": "execute_result"
    }
   ],
   "source": [
    "from azure.ai.ml import MLClient\n",
    "from azure.ai.ml.entities import Data\n",
    "from azure.ai.ml.constants import AssetTypes\n",
    "from azure.identity import DefaultAzureCredential\n",
    "\n",
    "# #autheticate\n",
    "# credential = DefaultAzureCredential()\n",
    "\n",
    "# # Get a handle to the workspace\n",
    "# ml_client = MLClient.from_config(\n",
    "#     credential=credential,\n",
    "#     path=\"config.json\",\n",
    "# )\n",
    "\n",
    "# Set the version number of the data asset (for example: '1')\n",
    "VERSION = \"2\"\n",
    "path = \"/workspaces/AICoE_Ramping_Artefacts/artifactory-master/data/validation512.london.pkl\"\n",
    "\n",
    "# Define the Data asset object\n",
    "my_data = Data(\n",
    "    path=path,\n",
    "    type=AssetTypes.URI_FILE,\n",
    "    description=\"just using london smart meters dataset for validation (normed with std & mean)\",\n",
    "    name=\"artifactory_validation_london\",\n",
    "    version=VERSION,\n",
    ")\n",
    "\n",
    "# Create the data asset in the workspace\n",
    "ml_client.data.create_or_update(my_data)"
   ]
  },
  {
   "cell_type": "code",
   "execution_count": 9,
   "metadata": {},
   "outputs": [],
   "source": [
    "from azure.ai.ml import command, Input, Output\n",
    "from azure.ai.ml.constants import AssetTypes, InputOutputModes\n",
    "\n",
    "# data_asset_input = ml_client.data.get(\"tsdb_tser_norm\", version=\"1\")\n",
    "data_asset_output = \"azureml://datastores/workspaceblobstore/paths/artifactory/april/\"\n",
    "data_asset_input = ml_client.data.get(\"train_dataset_tser_tsdb_normalized\", version=\"3\")\n",
    "# data_asset_validation = ml_client.data.get(\"artifactory_validation_slidingWindow\", version=\"1\")\n",
    "# data_asset_validation = ml_client.data.get(\"artifactory_validation_norm\", version=\"3\")\n",
    "data_asset_validation = ml_client.data.get(\"artifactory_validation_slidingWindow_nolondon\", version=\"1\")\n",
    "data_asset_model = ml_client.data.get(\"artifactory_output\", version=\"48\")\n",
    "\n",
    "name = \"Train_fineTune_slidingWindow_warmupLR\"\n",
    "# define the command\n",
    "# TODO: later - add config parameters to input\n",
    "command_job = command(\n",
    "    code=\"/workspaces/AICoE_Ramping_Artefacts/artifactory-master/src_jobs\",\n",
    "    command=\"python train_fineTune_slidingWindow.py --input-path ${{inputs.tser_tsdb}} --val-path ${{inputs.val_path}} --model-path ${{inputs.model_path}} --output-path ${{outputs.output_path}}\",\n",
    "    environment=\"Pytorch112_python310_cuda10_cudnn8_ubuntu18@latest\",\n",
    "    inputs={\n",
    "        \"tser_tsdb\": Input(\n",
    "            type=AssetTypes.URI_FOLDER,\n",
    "            mode=InputOutputModes.RO_MOUNT,\n",
    "            path=data_asset_input.id,\n",
    "        ),\n",
    "        \"val_path\": Input(\n",
    "            type=AssetTypes.URI_FILE,\n",
    "            mode=InputOutputModes.RO_MOUNT,\n",
    "            path=data_asset_validation.id,\n",
    "        ),\n",
    "        \"model_path\": Input(\n",
    "            type=AssetTypes.URI_FILE,\n",
    "            mode=InputOutputModes.RO_MOUNT,\n",
    "            path=data_asset_model.id,\n",
    "        )\n",
    "    },\n",
    "    outputs={\n",
    "        \"output_path\": Output(\n",
    "            type=AssetTypes.URI_FOLDER,\n",
    "            mode=InputOutputModes.RW_MOUNT,\n",
    "            path=data_asset_output, \n",
    "            name=f\"output_{name}\"\n",
    "        )\n",
    "    },\n",
    "    compute=gpu_compute_target,\n",
    "    display_name=name,\n",
    "    experiment_name=\"transformer_fineTune_slidingWindow\",\n",
    ")"
   ]
  },
  {
   "cell_type": "code",
   "execution_count": 10,
   "metadata": {},
   "outputs": [
    {
     "name": "stderr",
     "output_type": "stream",
     "text": [
      "\u001b[32mUploading src_jobs (0.23 MBs): 100%|██████████| 228787/228787 [00:00<00:00, 257442.50it/s] \n",
      "\u001b[39m\n",
      "\n"
     ]
    },
    {
     "data": {
      "text/plain": [
       "'https://ml.azure.com/runs/sincere_vinegar_rlh17tv75m?wsid=/subscriptions/8de3e85d-b97f-48c1-a25b-5bddf9dc484c/resourcegroups/m3-mlops-dev/workspaces/m3-mlops-mlw-dev&tid=9c8f80a6-c648-4c20-90ff-5d267c8ae785'"
      ]
     },
     "execution_count": 10,
     "metadata": {},
     "output_type": "execute_result"
    }
   ],
   "source": [
    "# submit the command\n",
    "returned_job = ml_client.jobs.create_or_update(command_job)\n",
    "# get a URL for the status of the job\n",
    "returned_job.studio_url"
   ]
  },
  {
   "cell_type": "code",
   "execution_count": null,
   "metadata": {},
   "outputs": [],
   "source": [
    "from azure.ai.ml.entities import Model\n",
    "from azure.ai.ml.constants import AssetTypes\n",
    "\n",
    "run_model = Model(\n",
    "    path=\"azureml://jobs/{}/outputs/artifacts/paths/model/\".format(returned_job.name),\n",
    "    name=\"run-model-example\",\n",
    "    description=f\"Model created from run {returned_job.name}\",\n",
    "    type=AssetTypes.MLFLOW_MODEL\n",
    ")\n",
    "\n",
    "ml_client.models.create_or_update(run_model)"
   ]
  }
 ],
 "metadata": {
  "kernelspec": {
   "display_name": "Python 3",
   "language": "python",
   "name": "python3"
  },
  "language_info": {
   "codemirror_mode": {
    "name": "ipython",
    "version": 3
   },
   "file_extension": ".py",
   "mimetype": "text/x-python",
   "name": "python",
   "nbconvert_exporter": "python",
   "pygments_lexer": "ipython3",
   "version": "3.10.13"
  }
 },
 "nbformat": 4,
 "nbformat_minor": 2
}
