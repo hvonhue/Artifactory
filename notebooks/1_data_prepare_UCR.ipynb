{
 "cells": [
  {
   "cell_type": "code",
   "execution_count": 1,
   "metadata": {},
   "outputs": [],
   "source": [
    "import tsdb\n",
    "import pickle\n",
    "import logging\n",
    "import numpy as np\n",
    "import pandas as pd\n"
   ]
  },
  {
   "cell_type": "code",
   "execution_count": 2,
   "metadata": {},
   "outputs": [],
   "source": [
    "force = False"
   ]
  },
  {
   "cell_type": "code",
   "execution_count": 3,
   "metadata": {},
   "outputs": [],
   "source": [
    "def normalize(s: np.ndarray) -> list[float]:\n",
    "    n = ((s - s.mean()) / np.std(s)).tolist()\n",
    "    if (n.count('Nan') > 0 or np.std(s) < 0.00001):\n",
    "        print('NaN or std: ', np.std(s))\n",
    "    return n\n",
    "\n",
    "\n",
    "def save(data: np.ndarray,\n",
    "         to: str):\n",
    "    assert isinstance(data, list)\n",
    "    assert isinstance(data[0], list)\n",
    "    assert isinstance(data[0][0], float)\n",
    "    with open(to, \"wb\") as f:\n",
    "        pickle.dump(data, f)\n",
    "        \n",
    "\n",
    "def split(data: list[np.ndarray],\n",
    "          train: float = .9) -> tuple[list[np.ndarray],\n",
    "                                      list[np.ndarray]]:\n",
    "    \"\"\"Generate a train/test split.\"\"\"\n",
    "    p = int(len(data) * train)\n",
    "    return data[:p], data[p:]"
   ]
  },
  {
   "attachments": {},
   "cell_type": "markdown",
   "metadata": {},
   "source": [
    "## UCR Time Series Classification Repo"
   ]
  },
  {
   "cell_type": "code",
   "execution_count": 7,
   "metadata": {},
   "outputs": [],
   "source": [
    "datasets = [\n",
    "    'ACSF1',\n",
    "    'CinCECGTorso',\n",
    "    'HouseTwenty',\n",
    "    'Mallat',\n",
    "    'MixedShapesRegularTrain',\n",
    "    'Phoneme',\n",
    "    'PigArtPressure',\n",
    "    'PigCVP',\n",
    "    'Rock',\n",
    "    'SemgHandGenderCh2',\n",
    "    'SemgHandMovementCh2',\n",
    "    'SemgHandSubjectCh2'\n",
    "]\n",
    "\n",
    "path = \"../data/raw/UCR_TSC_raw\""
   ]
  },
  {
   "cell_type": "code",
   "execution_count": 5,
   "metadata": {},
   "outputs": [],
   "source": [
    "def load_UCI_DS(s: str, path: str, split: str) -> pd.DataFrame:\n",
    "    file_name = f\"{path}/{s}_{split}.tsv\"  \n",
    "    df = pd.read_csv(file_name, sep='\\t', header=None)\n",
    "    return df"
   ]
  },
  {
   "cell_type": "code",
   "execution_count": 21,
   "metadata": {},
   "outputs": [],
   "source": [
    "train = load_UCI_DS(datasets[0], path, 'TRAIN')\n",
    "train = train.astype(float)\n",
    "# train.drop(columns=0, inplace=True)\n",
    "# train = train.values.tolist()\n"
   ]
  },
  {
   "cell_type": "code",
   "execution_count": 24,
   "metadata": {},
   "outputs": [],
   "source": [
    "\"\"\"\n",
    "load and aplit all downloaded UCI datasets\n",
    "chosen datasets are already normalized with z-normalization\n",
    "\"\"\"\n",
    "for dataset_name in datasets:\n",
    "    train = load_UCI_DS(dataset_name, path, 'TRAIN')\n",
    "    test = load_UCI_DS(dataset_name, path, 'TEST')\n",
    "    train = train.astype(float)\n",
    "    test = test.astype(float)\n",
    "    train.drop(columns=0, inplace=True)\n",
    "    test.drop(columns=0, inplace=True)\n",
    "    train = train.values.tolist()\n",
    "    train = [normalize(np.array(s)) for s in train]\n",
    "    test = test.values.tolist()\n",
    "    test = [normalize(np.array(s)) for s in test]\n",
    "    dataset_train, dataset_test = split(train + test)\n",
    "    save(dataset_train,\n",
    "        f\"../data/processed/{dataset_name}_TRAIN.pickle\")\n",
    "    save(dataset_test,\n",
    "        f\"../data/processed/{dataset_name}_VAL.pickle\")"
   ]
  },
  {
   "cell_type": "code",
   "execution_count": 132,
   "metadata": {},
   "outputs": [
    {
     "data": {
      "text/plain": [
       "['ACSF1',\n",
       " 'CinCECGTorso',\n",
       " 'HouseTwenty',\n",
       " 'Mallat',\n",
       " 'MixedShapesRegularTrain',\n",
       " 'Phoneme',\n",
       " 'PigArtPressure',\n",
       " 'PigCVP',\n",
       " 'Rock',\n",
       " 'SemgHandGenderCh2',\n",
       " 'SemgHandMovementCh2',\n",
       " 'SemgHandSubjectCh2']"
      ]
     },
     "execution_count": 132,
     "metadata": {},
     "output_type": "execute_result"
    }
   ],
   "source": [
    "from pathlib import Path\n",
    "\n",
    "stems = [\n",
    "   (p.stem\n",
    "     .removesuffix(\"_TRAIN\")\n",
    "     .removesuffix(\"_VAL\")) for p in Path(\"../data/processed/\").glob(\"*_VAL.pickle\")\n",
    "]\n",
    "stems"
   ]
  }
 ],
 "metadata": {
  "kernelspec": {
   "display_name": "Python 3",
   "language": "python",
   "name": "python3"
  },
  "language_info": {
   "codemirror_mode": {
    "name": "ipython",
    "version": 3
   },
   "file_extension": ".py",
   "mimetype": "text/x-python",
   "name": "python",
   "nbconvert_exporter": "python",
   "pygments_lexer": "ipython3",
   "version": "3.11.4"
  },
  "orig_nbformat": 4
 },
 "nbformat": 4,
 "nbformat_minor": 2
}
