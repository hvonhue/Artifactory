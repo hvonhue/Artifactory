{
 "cells": [
  {
   "cell_type": "code",
   "execution_count": 1,
   "metadata": {},
   "outputs": [],
   "source": [
    "%reload_ext autoreload\n",
    "%autoreload 2   \n",
    "\n",
    "import sys\n",
    "sys.path.append('../artitect/')"
   ]
  },
  {
   "cell_type": "code",
   "execution_count": 2,
   "metadata": {},
   "outputs": [
    {
     "name": "stderr",
     "output_type": "stream",
     "text": [
      "/opt/miniconda/lib/python3.10/site-packages/tqdm/auto.py:21: TqdmWarning: IProgress not found. Please update jupyter and ipywidgets. See https://ipywidgets.readthedocs.io/en/stable/user_install.html\n",
      "  from .autonotebook import tqdm as notebook_tqdm\n"
     ]
    }
   ],
   "source": [
    "import torch\n",
    "import warnings\n",
    "\n",
    "# stop warnings\n",
    "torch.set_float32_matmul_precision(\"high\")\n",
    "warnings.filterwarnings(\"ignore\", \".*does not have many workers.*\")"
   ]
  },
  {
   "cell_type": "code",
   "execution_count": 3,
   "metadata": {},
   "outputs": [
    {
     "name": "stderr",
     "output_type": "stream",
     "text": [
      "Found the config file in: config.json\n"
     ]
    }
   ],
   "source": [
    "from azure.ai.ml import MLClient\n",
    "from azure.identity import DefaultAzureCredential\n",
    "\n",
    "#autheticate\n",
    "credential = DefaultAzureCredential()\n",
    "\n",
    "# Get a handle to the workspace\n",
    "ml_client = MLClient.from_config(\n",
    "    credential=credential,\n",
    "    path=\"config.json\",\n",
    ")"
   ]
  },
  {
   "cell_type": "code",
   "execution_count": 4,
   "metadata": {},
   "outputs": [],
   "source": [
    "# specify aml compute name.\n",
    "cpu_compute_target = \"cpu-cluster\"\n",
    "gpu_compute_target = \"gpu-cluster\"\n",
    "\n",
    "try:\n",
    "    ml_client.compute.get(cpu_compute_target)\n",
    "except Exception:\n",
    "    print(\"CPU compute target not found.\")\n",
    "    \n",
    "try:\n",
    "    ml_client.compute.get(gpu_compute_target)\n",
    "except Exception:\n",
    "    print(\"GPU compute target not found.\")"
   ]
  },
  {
   "cell_type": "code",
   "execution_count": 7,
   "metadata": {},
   "outputs": [],
   "source": [
    "from datetime import datetime\n",
    "from azure.ai.ml import command, Input, Output\n",
    "from azure.ai.ml.constants import AssetTypes, InputOutputModes\n",
    "\n",
    "name = \"Train_SW_Rejection_03\"\n",
    "\n",
    "# data_asset_input = ml_client.data.get(\"tsdb_tser_norm\", version=\"1\")\n",
    "data_asset_output = f\"azureml://datastores/workspaceblobstore/paths/artifactory/rejection\"\n",
    "# data_asset_input = ml_client.data.get(\"train_dataset_tser_tsdb_normalized\", version=\"3\")\n",
    "data_asset_input = ml_client.data.get(\"train_datasets_tser_tsdb\", version=\"7\")\n",
    "# data_asset_validation = ml_client.data.get(\"train_datasets_tser_tsdb\", version=\"8\")\n",
    "data_asset_model = ml_client.data.get(\"artifactory_output\", version=\"126\")\n",
    "\n",
    "# data_asset_validation = ml_client.data.get(\"artifactory_validation_norm\", version=\"3\")\n",
    "# data_asset_validation = ml_client.data.get(\"artifactory_validation_london\", version=\"2\")\n",
    "# data_asset_validation = ml_client.data.get(\"artifactory_validation_mask_nolondon\", version=\"2\")\n",
    "# data_asset_validation = ml_client.data.get(\"artifactory_validation_slidingWindow\", version=\"1\")\n",
    "# data_asset_validation = ml_client.data.get(\"artifactory_validation_slidingWindow_london\", version=\"1\")\n",
    "# data_asset_validation = ml_client.data.get(\"artifactory_validation_slidingWindow_nolondon\", version=\"1\") # only original 7 datasets\n",
    "# data_asset_validation = ml_client.data.get(\"artifactory_validation_slidingWindow_nolondon\", version=\"2\") # all 20 datasets\n",
    "data_asset_validation = ml_client.data.get(\"artifactory_validation_slidingWindow_nolondon\", version=\"3\") # all 20 val datasets except CiECGT\n",
    "\n",
    "# define the command\n",
    "# TODO: later - add config parameters to input\n",
    "command_job = command(\n",
    "    code=\"/workspaces/AICoE_Ramping_Artefacts/artifactory-master/src_jobs\",\n",
    "    command=\"python train_rejectionSampling_slidingWindow.py --input-path ${{inputs.tser_tsdb}} --val-path ${{inputs.val_path}} --model-path ${{inputs.model_path}} --output-path ${{outputs.output_path}}\",\n",
    "    environment=\"Pytorch112_python310_cuda10_cudnn8_ubuntu18@latest\",\n",
    "    inputs={\n",
    "        \"tser_tsdb\": Input(\n",
    "            type=AssetTypes.URI_FOLDER,\n",
    "            mode=InputOutputModes.RO_MOUNT,\n",
    "            path=data_asset_input.id,\n",
    "        ),\n",
    "        \"val_path\": Input(\n",
    "            type=AssetTypes.URI_FILE,\n",
    "            mode=InputOutputModes.RO_MOUNT,\n",
    "            path=data_asset_validation.id,\n",
    "        ),\n",
    "        \"model_path\": Input(\n",
    "            type=AssetTypes.URI_FILE,\n",
    "            mode=InputOutputModes.RO_MOUNT,\n",
    "            path=data_asset_model.id,\n",
    "        )\n",
    "    },\n",
    "    outputs={\n",
    "        \"output_path\": Output(\n",
    "            type=AssetTypes.URI_FOLDER,\n",
    "            mode=InputOutputModes.RW_MOUNT,\n",
    "            path=data_asset_output, \n",
    "            name=f\"artifactory_output\"\n",
    "        )\n",
    "    },\n",
    "    compute=gpu_compute_target,\n",
    "    display_name=name,\n",
    "    experiment_name=\"transformer_rejection_slidingWindow\",\n",
    ")"
   ]
  },
  {
   "cell_type": "code",
   "execution_count": 8,
   "metadata": {},
   "outputs": [
    {
     "name": "stderr",
     "output_type": "stream",
     "text": [
      "\u001b[32mUploading src_jobs (0.33 MBs): 100%|██████████| 326558/326558 [00:00<00:00, 2190084.98it/s]\n",
      "\u001b[39m\n",
      "\n"
     ]
    },
    {
     "data": {
      "text/plain": [
       "'https://ml.azure.com/runs/hungry_fly_r3mtcxs12f?wsid=/subscriptions/8de3e85d-b97f-48c1-a25b-5bddf9dc484c/resourcegroups/m3-mlops-dev/workspaces/m3-mlops-mlw-dev&tid=9c8f80a6-c648-4c20-90ff-5d267c8ae785'"
      ]
     },
     "execution_count": 8,
     "metadata": {},
     "output_type": "execute_result"
    }
   ],
   "source": [
    "# submit the command\n",
    "returned_job = ml_client.jobs.create_or_update(command_job)\n",
    "# get a URL for the status of the job\n",
    "returned_job.studio_url"
   ]
  }
 ],
 "metadata": {
  "kernelspec": {
   "display_name": "Python 3",
   "language": "python",
   "name": "python3"
  },
  "language_info": {
   "codemirror_mode": {
    "name": "ipython",
    "version": 3
   },
   "file_extension": ".py",
   "mimetype": "text/x-python",
   "name": "python",
   "nbconvert_exporter": "python",
   "pygments_lexer": "ipython3",
   "version": "3.1.-1"
  }
 },
 "nbformat": 4,
 "nbformat_minor": 2
}
