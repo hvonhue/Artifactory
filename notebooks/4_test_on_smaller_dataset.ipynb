{
 "cells": [
  {
   "cell_type": "markdown",
   "metadata": {},
   "source": [
    "## Test models on additional small dataset\n",
    "\n",
    "This notebook tests the FCN dense and FCN transformer models on the new smaller dataset with only positive samples.\n",
    "\n",
    "To run this script, please place the file francois_normalized_dataset.pickle in the folder data/real."
   ]
  },
  {
   "cell_type": "code",
   "execution_count": 6,
   "metadata": {},
   "outputs": [],
   "source": [
    "%reload_ext autoreload\n",
    "%autoreload 2\n",
    "\n",
    "import sys\n",
    "sys.path.append('../src_jobs/')"
   ]
  },
  {
   "cell_type": "code",
   "execution_count": 2,
   "metadata": {},
   "outputs": [
    {
     "name": "stderr",
     "output_type": "stream",
     "text": [
      "/opt/miniconda/lib/python3.10/site-packages/tqdm/auto.py:21: TqdmWarning: IProgress not found. Please update jupyter and ipywidgets. See https://ipywidgets.readthedocs.io/en/stable/user_install.html\n",
      "  from .autonotebook import tqdm as notebook_tqdm\n"
     ]
    }
   ],
   "source": [
    "import pickle\n",
    "from itertools import repeat\n",
    "from pathlib import Path\n",
    "\n",
    "import matplotlib.pyplot as plt\n",
    "import numpy as np\n",
    "import pandas as pd\n",
    "import torch\n",
    "from artifact import Saw_centered, Saw_centered_Francois\n",
    "from sliding_window_detector import SlidingWindowTransformerDetector, SlidingWindowLinearDetector, ConvolutionalSlidingWindowDetector\n",
    "\n",
    "from data import CachedArtifactDataset, TestArtifactDataset, CenteredArtifactDataset"
   ]
  },
  {
   "cell_type": "code",
   "execution_count": 3,
   "metadata": {},
   "outputs": [
    {
     "data": {
      "text/plain": [
       "<torch.autograd.grad_mode.set_grad_enabled at 0x729b0808bd90>"
      ]
     },
     "execution_count": 3,
     "metadata": {},
     "output_type": "execute_result"
    }
   ],
   "source": [
    "torch.set_grad_enabled(False)"
   ]
  },
  {
   "cell_type": "code",
   "execution_count": 7,
   "metadata": {},
   "outputs": [],
   "source": [
    "test_width_512 = 512\n",
    "data_512 = pd.read_pickle('../data/real/francois_normalized_dataset.pickle') "
   ]
  },
  {
   "cell_type": "code",
   "execution_count": 5,
   "metadata": {},
   "outputs": [
    {
     "name": "stderr",
     "output_type": "stream",
     "text": [
      "/opt/miniconda/lib/python3.10/site-packages/pytorch_lightning/utilities/parsing.py:197: UserWarning: Attribute 'act_fct' is an instance of `nn.Module` and is already saved during checkpointing. It is recommended to ignore them using `self.save_hyperparameters(ignore=['act_fct'])`.\n",
      "  rank_zero_warn(\n"
     ]
    }
   ],
   "source": [
    "paths_SW = \"../models/SW_CNN_Trans.ckpt\" # SW 1d CNN Transformer\n",
    "SW_CNNTrans_detector_512 = SlidingWindowTransformerDetector.load_from_checkpoint(paths_SW).cpu()\n",
    "\n",
    "paths_SW = \"../models/SW_adaFCN_Trans.ckpt\" # SW ada 1d CNN Transformer\n",
    "SW_adaCNNTrans_detector_512 = SlidingWindowTransformerDetector.load_from_checkpoint(paths_SW).cpu()\n",
    "\n",
    "paths_SW = \"../models/SW_CNN_Dense.ckpt\" # SW 1d CNN Transformer\n",
    "SW_CNNDense_detector_512 = SlidingWindowLinearDetector.load_from_checkpoint(paths_SW).cpu()\n",
    "\n",
    "paths_SW = \"../models/SW_adaFCN_Dense.ckpt\" # SW ada 1d CNN Transformer\n",
    "SW_adaCNNDense_detector_512 = SlidingWindowLinearDetector.load_from_checkpoint(paths_SW).cpu(),"
   ]
  },
  {
   "cell_type": "code",
   "execution_count": 10,
   "metadata": {},
   "outputs": [],
   "source": [
    "def baseline_detector(input: torch.Tensor) -> int:   \n",
    "    input.squeeze(0)\n",
    "    prediction = 0\n",
    "\n",
    "    center = int(input.shape[1]/2)\n",
    "    # flag points with very high increment as artifact\n",
    "    # Calculate increments by subtracting the tensor shifted by one from the original tensor\n",
    "    increments = (input[0][1:] - input[0][:-1]).abs()\n",
    "    mean_increment = torch.mean(increments)\n",
    "    std_increment = torch.std(increments)\n",
    "\n",
    "    if increments[center-1] > (mean_increment + 2*std_increment):\n",
    "        prediction = 1\n",
    "\n",
    "\n",
    "    return prediction"
   ]
  },
  {
   "cell_type": "code",
   "execution_count": 11,
   "metadata": {},
   "outputs": [],
   "source": [
    "preds_baseline = list()\n",
    "gt = list()\n",
    "\n",
    "for sample in data_512:\n",
    "    example = sample[\"data\"]\n",
    "    window  = test_width_512\n",
    "    length  = len(example)\n",
    "\n",
    "    example_data = torch.tensor(example)\n",
    "    prediction_baseline = baseline_detector(example_data.unsqueeze(0))\n",
    "    preds_baseline = preds_baseline + [prediction_baseline]\n"
   ]
  },
  {
   "cell_type": "code",
   "execution_count": 10,
   "metadata": {},
   "outputs": [
    {
     "name": "stderr",
     "output_type": "stream",
     "text": [
      "/opt/miniconda/lib/python3.10/site-packages/torch/nn/modules/conv.py:303: UserWarning: Using padding='same' with even kernel lengths and odd dilation may require a zero-padded copy of the input be created (Triggered internally at  ../aten/src/ATen/native/Convolution.cpp:883.)\n",
      "  return F.conv1d(input, weight, bias, self.stride,\n"
     ]
    }
   ],
   "source": [
    "from sklearn.metrics import accuracy_score, precision_score, recall_score, mean_squared_error, confusion_matrix, fbeta_score\n",
    "import pandas as pd\n",
    "\n",
    "metrics = pd.DataFrame(columns=['accuracy', 'precision', 'recall', 'mse'])\n",
    "index = 0\n",
    "\n",
    "preds_FCNTrans = list()\n",
    "preds_adaFCNTrans = list()\n",
    "preds_FCNDense = list()\n",
    "preds_adaFCNDense = list()\n",
    "\n",
    "preds_baseline = list()\n",
    "gt = list()\n",
    "\n",
    "for sample in data_512:\n",
    "    example = sample[\"data\"]\n",
    "    stride  = 64\n",
    "    window  = test_width_512\n",
    "    length  = len(example)\n",
    "\n",
    "    # add artifact to data\n",
    "    example_data = torch.tensor(example)\n",
    "\n",
    "    prediction_FCNTrans = SW_CNNTrans_detector_512.eval()(example_data.unsqueeze(0))   \n",
    "    prediction_adaFCNTrans = SW_adaCNNTrans_detector_512.eval()(example_data.unsqueeze(0))\n",
    "    prediction_FCNDense = SW_CNNDense_detector_512.eval()(example_data.unsqueeze(0))   \n",
    "    prediction_adaFCNDense = SW_adaCNNDense_detector_512.eval()(example_data.unsqueeze(0))\n",
    "\n",
    "    prediction_baseline = baseline_detector(example_data.unsqueeze(0))\n",
    "\n",
    "    preds_FCNTrans = preds_FCNTrans + [prediction_FCNTrans.numpy()]\n",
    "    preds_adaFCNTrans = preds_adaFCNTrans + [prediction_adaFCNTrans.numpy()]\n",
    "    preds_FCNDense = preds_FCNDense + [prediction_FCNDense.numpy()]\n",
    "    preds_adaFCNDense = preds_adaFCNDense + [prediction_adaFCNDense.numpy()]\n",
    "    \n",
    "    preds_baseline = preds_baseline + [prediction_baseline]\n",
    "\n",
    "    gt = gt + [1]\n"
   ]
  },
  {
   "cell_type": "code",
   "execution_count": 12,
   "metadata": {},
   "outputs": [],
   "source": [
    "best_threshold_fbeta_FCNTrans_512 = 0.252\n",
    "best_threshold_fbeta_adaFCNTrans_512 = 0.343\n",
    "\n",
    "best_threshold_fbeta_FCNDense_512 = 0.343\n",
    "best_threshold_fbeta_adaFCNDense_512 = 0.373"
   ]
  },
  {
   "cell_type": "code",
   "execution_count": 12,
   "metadata": {},
   "outputs": [
    {
     "name": "stderr",
     "output_type": "stream",
     "text": [
      "/opt/miniconda/lib/python3.10/site-packages/sklearn/metrics/_classification.py:1471: UndefinedMetricWarning: Precision is ill-defined and being set to 0.0 due to no predicted samples. Use `zero_division` parameter to control this behavior.\n",
      "  _warn_prf(average, modifier, msg_start, len(result))\n"
     ]
    }
   ],
   "source": [
    "preds_binary_FCNTrans = [1 if value >= best_threshold_fbeta_FCNTrans_512 else 0 for value in preds_FCNTrans]\n",
    "preds_binary_adaFCNTrans = [1 if value >= best_threshold_fbeta_adaFCNTrans_512 else 0 for value in preds_adaFCNTrans]\n",
    "preds_binary_FCNDense = [1 if value >= best_threshold_fbeta_FCNDense_512 else 0 for value in preds_FCNDense]\n",
    "preds_binary_adaFCNDense = [1 if value >= best_threshold_fbeta_adaFCNDense_512 else 0 for value in preds_adaFCNDense]\n",
    "\n",
    "preds_binary_baseline = preds_baseline\n",
    "\n",
    "tn_cnn_1, fp_cnn_1, fn_cnn_1, tp_cnn_1 = confusion_matrix(gt, preds_binary_FCNTrans, labels=[0, 1]).ravel()\n",
    "tn_cnn_2, fp_cnn_2, fn_cnn_2, tp_cnn_2 = confusion_matrix(gt, preds_binary_adaFCNTrans, labels=[0, 1]).ravel()\n",
    "tn_cnn_3, fp_cnn_3, fn_cnn_3, tp_cnn_3 = confusion_matrix(gt, preds_binary_FCNDense, labels=[0, 1]).ravel()\n",
    "tn_cnn_4, fp_cnn_4, fn_cnn_4, tp_cnn_4 = confusion_matrix(gt, preds_binary_adaFCNDense, labels=[0, 1]).ravel()\n",
    "\n",
    "tn_baseline, fp_baseline, fn_baseline, tp_baseline = confusion_matrix(gt, preds_binary_baseline, labels=[0, 1]).ravel()\n",
    "\n",
    "metrics = pd.DataFrame([{\n",
    "    'detector': 'FCN Trans',\n",
    "    'threshold': best_threshold_fbeta_FCNTrans_512,\n",
    "    'fbeta': fbeta_score(gt, preds_binary_FCNTrans, beta=0.5),\n",
    "    'accuracy': accuracy_score(gt, preds_binary_FCNTrans),\n",
    "    'precision': precision_score(gt, preds_binary_FCNTrans),\n",
    "    'recall': recall_score(gt, preds_binary_FCNTrans),\n",
    "    'mse': mean_squared_error(gt, preds_binary_FCNTrans),\n",
    "    'tn': tn_cnn_1,\n",
    "    'fp': fp_cnn_1, \n",
    "    'fn': fn_cnn_1, \n",
    "    'tp': tp_cnn_1,\n",
    "},\n",
    "{\n",
    "    'detector': 'adapted FCN Trans',\n",
    "    'threshold': best_threshold_fbeta_adaFCNTrans_512,\n",
    "    'fbeta': fbeta_score(gt, preds_binary_adaFCNTrans, beta=0.5),\n",
    "    'accuracy': accuracy_score(gt, preds_binary_adaFCNTrans),\n",
    "    'precision': precision_score(gt, preds_binary_adaFCNTrans),\n",
    "    'recall': recall_score(gt, preds_binary_adaFCNTrans),\n",
    "    'mse': mean_squared_error(gt, preds_binary_adaFCNTrans),\n",
    "    'tn': tn_cnn_2,\n",
    "    'fp': fp_cnn_2, \n",
    "    'fn': fn_cnn_2, \n",
    "    'tp': tp_cnn_2\n",
    "},\n",
    "{\n",
    "    'detector': 'FCN Dense',\n",
    "    'threshold': best_threshold_fbeta_FCNDense_512,\n",
    "    'fbeta': fbeta_score(gt, preds_binary_FCNDense, beta=0.5),\n",
    "    'accuracy': accuracy_score(gt, preds_binary_FCNDense),\n",
    "    'precision': precision_score(gt, preds_binary_FCNDense),\n",
    "    'recall': recall_score(gt, preds_binary_FCNDense),\n",
    "    'mse': mean_squared_error(gt, preds_binary_FCNDense),\n",
    "    'tn': tn_cnn_3,\n",
    "    'fp': fp_cnn_3, \n",
    "    'fn': fn_cnn_3, \n",
    "    'tp': tp_cnn_3\n",
    "},\n",
    "{\n",
    "    'detector': 'adapted FCN Dense',\n",
    "    'threshold': best_threshold_fbeta_adaFCNDense_512,\n",
    "    'fbeta': fbeta_score(gt, preds_binary_adaFCNDense, beta=0.5),\n",
    "    'accuracy': accuracy_score(gt, preds_binary_adaFCNDense),\n",
    "    'precision': precision_score(gt, preds_binary_adaFCNDense),\n",
    "    'recall': recall_score(gt, preds_binary_adaFCNDense),\n",
    "    'mse': mean_squared_error(gt, preds_binary_adaFCNDense),\n",
    "    'tn': tn_cnn_4,\n",
    "    'fp': fp_cnn_4, \n",
    "    'fn': fn_cnn_4, \n",
    "    'tp': tp_cnn_4\n",
    "},\n",
    "{\n",
    "    'detector': 'baseline',\n",
    "    'threshold': 0.5,\n",
    "    'fbeta': fbeta_score(gt, preds_binary_baseline, beta=0.5),\n",
    "    'accuracy': accuracy_score(gt, preds_binary_baseline),\n",
    "    'precision': precision_score(gt, preds_binary_baseline),\n",
    "    'recall': recall_score(gt, preds_binary_baseline),\n",
    "    'mse': mean_squared_error(gt, preds_binary_baseline),\n",
    "    'tn': tn_baseline,\n",
    "    'fp': fp_baseline, \n",
    "    'fn': fn_baseline, \n",
    "    'tp': tp_baseline\n",
    "}])"
   ]
  },
  {
   "cell_type": "code",
   "execution_count": 13,
   "metadata": {},
   "outputs": [
    {
     "data": {
      "text/html": [
       "<div>\n",
       "<style scoped>\n",
       "    .dataframe tbody tr th:only-of-type {\n",
       "        vertical-align: middle;\n",
       "    }\n",
       "\n",
       "    .dataframe tbody tr th {\n",
       "        vertical-align: top;\n",
       "    }\n",
       "\n",
       "    .dataframe thead th {\n",
       "        text-align: right;\n",
       "    }\n",
       "</style>\n",
       "<table border=\"1\" class=\"dataframe\">\n",
       "  <thead>\n",
       "    <tr style=\"text-align: right;\">\n",
       "      <th></th>\n",
       "      <th>detector</th>\n",
       "      <th>threshold</th>\n",
       "      <th>fbeta</th>\n",
       "      <th>accuracy</th>\n",
       "      <th>precision</th>\n",
       "      <th>recall</th>\n",
       "      <th>mse</th>\n",
       "      <th>tn</th>\n",
       "      <th>fp</th>\n",
       "      <th>fn</th>\n",
       "      <th>tp</th>\n",
       "    </tr>\n",
       "  </thead>\n",
       "  <tbody>\n",
       "    <tr>\n",
       "      <th>0</th>\n",
       "      <td>FCN Trans</td>\n",
       "      <td>0.252</td>\n",
       "      <td>0.440000</td>\n",
       "      <td>0.135802</td>\n",
       "      <td>1.0</td>\n",
       "      <td>0.135802</td>\n",
       "      <td>0.864198</td>\n",
       "      <td>0</td>\n",
       "      <td>0</td>\n",
       "      <td>70</td>\n",
       "      <td>11</td>\n",
       "    </tr>\n",
       "    <tr>\n",
       "      <th>1</th>\n",
       "      <td>adapted FCN Trans</td>\n",
       "      <td>0.343</td>\n",
       "      <td>0.807860</td>\n",
       "      <td>0.456790</td>\n",
       "      <td>1.0</td>\n",
       "      <td>0.456790</td>\n",
       "      <td>0.543210</td>\n",
       "      <td>0</td>\n",
       "      <td>0</td>\n",
       "      <td>44</td>\n",
       "      <td>37</td>\n",
       "    </tr>\n",
       "    <tr>\n",
       "      <th>2</th>\n",
       "      <td>FCN Dense</td>\n",
       "      <td>0.343</td>\n",
       "      <td>0.247525</td>\n",
       "      <td>0.061728</td>\n",
       "      <td>1.0</td>\n",
       "      <td>0.061728</td>\n",
       "      <td>0.938272</td>\n",
       "      <td>0</td>\n",
       "      <td>0</td>\n",
       "      <td>76</td>\n",
       "      <td>5</td>\n",
       "    </tr>\n",
       "    <tr>\n",
       "      <th>3</th>\n",
       "      <td>adapted FCN Dense</td>\n",
       "      <td>0.373</td>\n",
       "      <td>0.112360</td>\n",
       "      <td>0.024691</td>\n",
       "      <td>1.0</td>\n",
       "      <td>0.024691</td>\n",
       "      <td>0.975309</td>\n",
       "      <td>0</td>\n",
       "      <td>0</td>\n",
       "      <td>79</td>\n",
       "      <td>2</td>\n",
       "    </tr>\n",
       "    <tr>\n",
       "      <th>4</th>\n",
       "      <td>baseline</td>\n",
       "      <td>0.500</td>\n",
       "      <td>0.000000</td>\n",
       "      <td>0.000000</td>\n",
       "      <td>0.0</td>\n",
       "      <td>0.000000</td>\n",
       "      <td>1.000000</td>\n",
       "      <td>0</td>\n",
       "      <td>0</td>\n",
       "      <td>81</td>\n",
       "      <td>0</td>\n",
       "    </tr>\n",
       "  </tbody>\n",
       "</table>\n",
       "</div>"
      ],
      "text/plain": [
       "            detector  threshold     fbeta  accuracy  precision    recall  \\\n",
       "0          FCN Trans      0.252  0.440000  0.135802        1.0  0.135802   \n",
       "1  adapted FCN Trans      0.343  0.807860  0.456790        1.0  0.456790   \n",
       "2          FCN Dense      0.343  0.247525  0.061728        1.0  0.061728   \n",
       "3  adapted FCN Dense      0.373  0.112360  0.024691        1.0  0.024691   \n",
       "4           baseline      0.500  0.000000  0.000000        0.0  0.000000   \n",
       "\n",
       "        mse  tn  fp  fn  tp  \n",
       "0  0.864198   0   0  70  11  \n",
       "1  0.543210   0   0  44  37  \n",
       "2  0.938272   0   0  76   5  \n",
       "3  0.975309   0   0  79   2  \n",
       "4  1.000000   0   0  81   0  "
      ]
     },
     "execution_count": 13,
     "metadata": {},
     "output_type": "execute_result"
    }
   ],
   "source": [
    "metrics"
   ]
  }
 ],
 "metadata": {
  "kernelspec": {
   "display_name": "Python 3",
   "language": "python",
   "name": "python3"
  },
  "language_info": {
   "codemirror_mode": {
    "name": "ipython",
    "version": 3
   },
   "file_extension": ".py",
   "mimetype": "text/x-python",
   "name": "python",
   "nbconvert_exporter": "python",
   "pygments_lexer": "ipython3",
   "version": "3.10.0"
  },
  "orig_nbformat": 4
 },
 "nbformat": 4,
 "nbformat_minor": 2
}
